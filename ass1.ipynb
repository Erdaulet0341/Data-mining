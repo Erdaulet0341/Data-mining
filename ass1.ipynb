{
 "cells": [
  {
   "cell_type": "code",
   "id": "initial_id",
   "metadata": {
    "collapsed": true,
    "ExecuteTime": {
     "end_time": "2024-09-26T12:28:21.271925Z",
     "start_time": "2024-09-26T12:28:21.263816Z"
    }
   },
   "source": [
    "import pandas as pd \n",
    "from sklearn.preprocessing import MinMaxScaler\n",
    "from sklearn.pipeline import Pipeline\n",
    "from sklearn.preprocessing import StandardScaler, OneHotEncoder\n",
    "from sklearn.impute import SimpleImputer\n",
    "from sklearn.compose import ColumnTransformer\n",
    "from sklearn.linear_model import LogisticRegression\n",
    "from sklearn.model_selection import train_test_split\n",
    "\n",
    "print(\"This is the first assignment of the Data Mining lesson. \\n\"\n",
    "\"Exercise 1:\")"
   ],
   "outputs": [
    {
     "name": "stdout",
     "output_type": "stream",
     "text": [
      "This is the first assignment of the Data Mining lesson. \n",
      "Exercise 1:\n"
     ]
    }
   ],
   "execution_count": 2
  },
  {
   "metadata": {
    "ExecuteTime": {
     "end_time": "2024-09-26T12:28:24.105039Z",
     "start_time": "2024-09-26T12:28:24.093266Z"
    }
   },
   "cell_type": "code",
   "source": "data = pd.read_csv(\"pandas.csv\", on_bad_lines='skip')\n",
   "id": "cebceccce0b62287",
   "outputs": [],
   "execution_count": 3
  },
  {
   "metadata": {
    "ExecuteTime": {
     "end_time": "2024-09-19T13:17:16.432570Z",
     "start_time": "2024-09-19T13:17:16.418232Z"
    }
   },
   "cell_type": "code",
   "source": "print(data.head(3))",
   "id": "b5c51430e68f2aa",
   "outputs": [
    {
     "name": "stdout",
     "output_type": "stream",
     "text": [
      "   Index      Customer Id First Name Last Name          Company  \\\n",
      "0      1  DD37Cf93aecA6Dc     Sheryl    Baxter  Rasmussen Group   \n",
      "1      2  1Ef7b82A4CAAD10    Preston    Lozano      Vega-Gentry   \n",
      "2      3  6F94879bDAfE5a6        Roy     Berry    Murillo-Perry   \n",
      "\n",
      "                City              Country          Phone 1  \\\n",
      "0       East Leonard                Chile     229.077.5154   \n",
      "1  East Jimmychester             Djibouti       5153435776   \n",
      "2      Isabelborough  Antigua and Barbuda  +1-539-402-0259   \n",
      "\n",
      "               Phone 2                     Email Subscription Date  \\\n",
      "0     397.884.0519x718  zunigavanessa@smith.info        2020-08-24   \n",
      "1     686-620-1820x944           vmata@colon.com        2021-04-23   \n",
      "2  (496)978-3969x58947       beckycarr@hogan.com        2020-03-25   \n",
      "\n",
      "                      Website  \n",
      "0  http://www.stephenson.com/  \n",
      "1       http://www.hobbs.com/  \n",
      "2    http://www.lawrence.com/  \n"
     ]
    }
   ],
   "execution_count": 6
  },
  {
   "metadata": {
    "ExecuteTime": {
     "end_time": "2024-09-19T13:17:24.733901Z",
     "start_time": "2024-09-19T13:17:24.728370Z"
    }
   },
   "cell_type": "code",
   "source": "print(data.tail(3))",
   "id": "830f713ad396a2ca",
   "outputs": [
    {
     "name": "stdout",
     "output_type": "stream",
     "text": [
      "    Index      Customer Id First Name Last Name             Company  \\\n",
      "97     98  28CDbC0dFe4b1Db       Fred    Guerra       Schmitt-Jones   \n",
      "98     99  c23d1D9EE8DEB0A     Yvonne    Farmer  Fitzgerald-Harrell   \n",
      "99    100  2354a0E336A91A1   Clarence    Haynes  Le, Nash and Cross   \n",
      "\n",
      "               City          Country               Phone 1  \\\n",
      "97       Ortegaland  Solomon Islands  +1-753-067-8419x7170   \n",
      "98  Lake Elijahview            Aruba         (530)311-9786   \n",
      "99        Judymouth         Honduras         (753)813-6941   \n",
      "\n",
      "                   Phone 2                           Email Subscription Date  \\\n",
      "97   +1-632-666-7507x92121                swagner@kane.org        2021-09-18   \n",
      "98  001-869-452-0943x12424  mccarthystephen@horn-green.biz        2021-08-11   \n",
      "99            783.639.1472          colleen91@faulkner.biz        2020-03-11   \n",
      "\n",
      "                              Website  \n",
      "97              https://www.ross.com/  \n",
      "98               http://watkins.info/  \n",
      "99  http://www.hatfield-saunders.net/  \n"
     ]
    }
   ],
   "execution_count": 7
  },
  {
   "metadata": {
    "ExecuteTime": {
     "end_time": "2024-09-19T13:17:30.185477Z",
     "start_time": "2024-09-19T13:17:30.175106Z"
    }
   },
   "cell_type": "code",
   "source": "print(data.info())",
   "id": "585096b505c6628d",
   "outputs": [
    {
     "name": "stdout",
     "output_type": "stream",
     "text": [
      "<class 'pandas.core.frame.DataFrame'>\n",
      "RangeIndex: 100 entries, 0 to 99\n",
      "Data columns (total 12 columns):\n",
      " #   Column             Non-Null Count  Dtype \n",
      "---  ------             --------------  ----- \n",
      " 0   Index              100 non-null    int64 \n",
      " 1   Customer Id        100 non-null    object\n",
      " 2   First Name         100 non-null    object\n",
      " 3   Last Name          100 non-null    object\n",
      " 4   Company            100 non-null    object\n",
      " 5   City               100 non-null    object\n",
      " 6   Country            100 non-null    object\n",
      " 7   Phone 1            100 non-null    object\n",
      " 8   Phone 2            100 non-null    object\n",
      " 9   Email              100 non-null    object\n",
      " 10  Subscription Date  100 non-null    object\n",
      " 11  Website            100 non-null    object\n",
      "dtypes: int64(1), object(11)\n",
      "memory usage: 9.5+ KB\n",
      "None\n"
     ]
    }
   ],
   "execution_count": 8
  },
  {
   "metadata": {
    "ExecuteTime": {
     "end_time": "2024-09-19T13:17:35.439939Z",
     "start_time": "2024-09-19T13:17:35.431102Z"
    }
   },
   "cell_type": "code",
   "source": [
    "missing_values = data.isnull()\n",
    "print(\"Пропущенные значения:\\n\", missing_values)"
   ],
   "id": "a407ad4d3b50e842",
   "outputs": [
    {
     "name": "stdout",
     "output_type": "stream",
     "text": [
      "Пропущенные значения:\n",
      "     Index  Customer Id  First Name  Last Name  Company   City  Country  \\\n",
      "0   False        False       False      False    False  False    False   \n",
      "1   False        False       False      False    False  False    False   \n",
      "2   False        False       False      False    False  False    False   \n",
      "3   False        False       False      False    False  False    False   \n",
      "4   False        False       False      False    False  False    False   \n",
      "..    ...          ...         ...        ...      ...    ...      ...   \n",
      "95  False        False       False      False    False  False    False   \n",
      "96  False        False       False      False    False  False    False   \n",
      "97  False        False       False      False    False  False    False   \n",
      "98  False        False       False      False    False  False    False   \n",
      "99  False        False       False      False    False  False    False   \n",
      "\n",
      "    Phone 1  Phone 2  Email  Subscription Date  Website  \n",
      "0     False    False  False              False    False  \n",
      "1     False    False  False              False    False  \n",
      "2     False    False  False              False    False  \n",
      "3     False    False  False              False    False  \n",
      "4     False    False  False              False    False  \n",
      "..      ...      ...    ...                ...      ...  \n",
      "95    False    False  False              False    False  \n",
      "96    False    False  False              False    False  \n",
      "97    False    False  False              False    False  \n",
      "98    False    False  False              False    False  \n",
      "99    False    False  False              False    False  \n",
      "\n",
      "[100 rows x 12 columns]\n"
     ]
    }
   ],
   "execution_count": 9
  },
  {
   "metadata": {
    "ExecuteTime": {
     "end_time": "2024-09-19T13:17:40.866356Z",
     "start_time": "2024-09-19T13:17:40.862271Z"
    }
   },
   "cell_type": "code",
   "source": [
    "data_types = data.dtypes\n",
    "print(data_types)"
   ],
   "id": "281857751e7b582",
   "outputs": [
    {
     "name": "stdout",
     "output_type": "stream",
     "text": [
      "Index                 int64\n",
      "Customer Id          object\n",
      "First Name           object\n",
      "Last Name            object\n",
      "Company              object\n",
      "City                 object\n",
      "Country              object\n",
      "Phone 1              object\n",
      "Phone 2              object\n",
      "Email                object\n",
      "Subscription Date    object\n",
      "Website              object\n",
      "dtype: object\n"
     ]
    }
   ],
   "execution_count": 10
  },
  {
   "metadata": {
    "ExecuteTime": {
     "end_time": "2024-09-19T13:17:45.283030Z",
     "start_time": "2024-09-19T13:17:45.279268Z"
    }
   },
   "cell_type": "code",
   "source": "print(\"Exercise 2:\")",
   "id": "bd97cea2fb908cbf",
   "outputs": [
    {
     "name": "stdout",
     "output_type": "stream",
     "text": [
      "Exercise 2:\n"
     ]
    }
   ],
   "execution_count": 11
  },
  {
   "metadata": {
    "ExecuteTime": {
     "end_time": "2024-09-19T13:17:50.414399Z",
     "start_time": "2024-09-19T13:17:50.408394Z"
    }
   },
   "cell_type": "code",
   "source": [
    "missing_counts = data.isnull().sum()\n",
    "print(\"\\nКоличество пропущенных значений:\\n\", missing_counts)"
   ],
   "id": "4bac5a0142e00dcf",
   "outputs": [
    {
     "name": "stdout",
     "output_type": "stream",
     "text": [
      "\n",
      "Количество пропущенных значений:\n",
      " Index                0\n",
      "Customer Id          0\n",
      "First Name           0\n",
      "Last Name            0\n",
      "Company              0\n",
      "City                 0\n",
      "Country              0\n",
      "Phone 1              0\n",
      "Phone 2              0\n",
      "Email                0\n",
      "Subscription Date    0\n",
      "Website              0\n",
      "dtype: int64\n"
     ]
    }
   ],
   "execution_count": 12
  },
  {
   "metadata": {
    "ExecuteTime": {
     "end_time": "2024-09-19T13:17:56.385186Z",
     "start_time": "2024-09-19T13:17:56.376672Z"
    }
   },
   "cell_type": "code",
   "source": [
    "data_dropna = data.dropna()\n",
    "print(\"После удаления строк с пропущенными значениями:\\n\", data_dropna)"
   ],
   "id": "9ecf7c0c7e25bb82",
   "outputs": [
    {
     "name": "stdout",
     "output_type": "stream",
     "text": [
      "После удаления строк с пропущенными значениями:\n",
      "     Index      Customer Id First Name Last Name  \\\n",
      "0       1  DD37Cf93aecA6Dc     Sheryl    Baxter   \n",
      "1       2  1Ef7b82A4CAAD10    Preston    Lozano   \n",
      "2       3  6F94879bDAfE5a6        Roy     Berry   \n",
      "3       4  5Cef8BFA16c5e3c      Linda     Olsen   \n",
      "4       5  053d585Ab6b3159     Joanna    Bender   \n",
      "..    ...              ...        ...       ...   \n",
      "95     96  cb8E23e48d22Eae       Karl     Greer   \n",
      "96     97  CeD220bdAaCfaDf       Lynn  Atkinson   \n",
      "97     98  28CDbC0dFe4b1Db       Fred    Guerra   \n",
      "98     99  c23d1D9EE8DEB0A     Yvonne    Farmer   \n",
      "99    100  2354a0E336A91A1   Clarence    Haynes   \n",
      "\n",
      "                            Company               City  \\\n",
      "0                   Rasmussen Group       East Leonard   \n",
      "1                       Vega-Gentry  East Jimmychester   \n",
      "2                     Murillo-Perry      Isabelborough   \n",
      "3   Dominguez, Mcmillan and Donovan         Bensonview   \n",
      "4          Martin, Lang and Andrade     West Priscilla   \n",
      "..                              ...                ...   \n",
      "95                        Carey LLC       East Richard   \n",
      "96            Ware, Burns and Oneal       New Bradview   \n",
      "97                    Schmitt-Jones         Ortegaland   \n",
      "98               Fitzgerald-Harrell    Lake Elijahview   \n",
      "99               Le, Nash and Cross          Judymouth   \n",
      "\n",
      "                       Country                 Phone 1  \\\n",
      "0                        Chile            229.077.5154   \n",
      "1                     Djibouti              5153435776   \n",
      "2          Antigua and Barbuda         +1-539-402-0259   \n",
      "3           Dominican Republic  001-808-617-6467x12895   \n",
      "4   Slovakia (Slovak Republic)  001-234-203-0635x76146   \n",
      "..                         ...                     ...   \n",
      "95                      Guyana     (188)169-1674x58692   \n",
      "96                   Sri Lanka         +1-846-706-2218   \n",
      "97             Solomon Islands    +1-753-067-8419x7170   \n",
      "98                       Aruba           (530)311-9786   \n",
      "99                    Honduras           (753)813-6941   \n",
      "\n",
      "                   Phone 2                           Email Subscription Date  \\\n",
      "0         397.884.0519x718        zunigavanessa@smith.info        2020-08-24   \n",
      "1         686-620-1820x944                 vmata@colon.com        2021-04-23   \n",
      "2      (496)978-3969x58947             beckycarr@hogan.com        2020-03-25   \n",
      "3          +1-813-324-8756     stanleyblackwell@benson.org        2020-06-02   \n",
      "4    001-199-446-3860x3486         colinalvarado@miles.net        2021-04-17   \n",
      "..                     ...                             ...               ...   \n",
      "95    001-841-293-3519x614                hhart@jensen.com        2022-01-30   \n",
      "96            605.413.3198               vkemp@ferrell.com        2021-07-10   \n",
      "97   +1-632-666-7507x92121                swagner@kane.org        2021-09-18   \n",
      "98  001-869-452-0943x12424  mccarthystephen@horn-green.biz        2021-08-11   \n",
      "99            783.639.1472          colleen91@faulkner.biz        2020-03-11   \n",
      "\n",
      "                              Website  \n",
      "0          http://www.stephenson.com/  \n",
      "1               http://www.hobbs.com/  \n",
      "2            http://www.lawrence.com/  \n",
      "3          http://www.good-lyons.com/  \n",
      "4         https://goodwin-ingram.com/  \n",
      "..                                ...  \n",
      "95            http://hayes-perez.com/  \n",
      "96         https://novak-allison.com/  \n",
      "97              https://www.ross.com/  \n",
      "98               http://watkins.info/  \n",
      "99  http://www.hatfield-saunders.net/  \n",
      "\n",
      "[100 rows x 12 columns]\n"
     ]
    }
   ],
   "execution_count": 13
  },
  {
   "metadata": {
    "ExecuteTime": {
     "end_time": "2024-09-19T13:18:07.793797Z",
     "start_time": "2024-09-19T13:18:07.787019Z"
    }
   },
   "cell_type": "code",
   "source": [
    "data_fill_mean = data.fillna(data.mean(numeric_only=True))\n",
    "print(\"После заполнения средним значением:\\n\", data_fill_mean)"
   ],
   "id": "9e593197f41851bd",
   "outputs": [
    {
     "name": "stdout",
     "output_type": "stream",
     "text": [
      "После заполнения средним значением:\n",
      "     Index      Customer Id First Name Last Name  \\\n",
      "0       1  DD37Cf93aecA6Dc     Sheryl    Baxter   \n",
      "1       2  1Ef7b82A4CAAD10    Preston    Lozano   \n",
      "2       3  6F94879bDAfE5a6        Roy     Berry   \n",
      "3       4  5Cef8BFA16c5e3c      Linda     Olsen   \n",
      "4       5  053d585Ab6b3159     Joanna    Bender   \n",
      "..    ...              ...        ...       ...   \n",
      "95     96  cb8E23e48d22Eae       Karl     Greer   \n",
      "96     97  CeD220bdAaCfaDf       Lynn  Atkinson   \n",
      "97     98  28CDbC0dFe4b1Db       Fred    Guerra   \n",
      "98     99  c23d1D9EE8DEB0A     Yvonne    Farmer   \n",
      "99    100  2354a0E336A91A1   Clarence    Haynes   \n",
      "\n",
      "                            Company               City  \\\n",
      "0                   Rasmussen Group       East Leonard   \n",
      "1                       Vega-Gentry  East Jimmychester   \n",
      "2                     Murillo-Perry      Isabelborough   \n",
      "3   Dominguez, Mcmillan and Donovan         Bensonview   \n",
      "4          Martin, Lang and Andrade     West Priscilla   \n",
      "..                              ...                ...   \n",
      "95                        Carey LLC       East Richard   \n",
      "96            Ware, Burns and Oneal       New Bradview   \n",
      "97                    Schmitt-Jones         Ortegaland   \n",
      "98               Fitzgerald-Harrell    Lake Elijahview   \n",
      "99               Le, Nash and Cross          Judymouth   \n",
      "\n",
      "                       Country                 Phone 1  \\\n",
      "0                        Chile            229.077.5154   \n",
      "1                     Djibouti              5153435776   \n",
      "2          Antigua and Barbuda         +1-539-402-0259   \n",
      "3           Dominican Republic  001-808-617-6467x12895   \n",
      "4   Slovakia (Slovak Republic)  001-234-203-0635x76146   \n",
      "..                         ...                     ...   \n",
      "95                      Guyana     (188)169-1674x58692   \n",
      "96                   Sri Lanka         +1-846-706-2218   \n",
      "97             Solomon Islands    +1-753-067-8419x7170   \n",
      "98                       Aruba           (530)311-9786   \n",
      "99                    Honduras           (753)813-6941   \n",
      "\n",
      "                   Phone 2                           Email Subscription Date  \\\n",
      "0         397.884.0519x718        zunigavanessa@smith.info        2020-08-24   \n",
      "1         686-620-1820x944                 vmata@colon.com        2021-04-23   \n",
      "2      (496)978-3969x58947             beckycarr@hogan.com        2020-03-25   \n",
      "3          +1-813-324-8756     stanleyblackwell@benson.org        2020-06-02   \n",
      "4    001-199-446-3860x3486         colinalvarado@miles.net        2021-04-17   \n",
      "..                     ...                             ...               ...   \n",
      "95    001-841-293-3519x614                hhart@jensen.com        2022-01-30   \n",
      "96            605.413.3198               vkemp@ferrell.com        2021-07-10   \n",
      "97   +1-632-666-7507x92121                swagner@kane.org        2021-09-18   \n",
      "98  001-869-452-0943x12424  mccarthystephen@horn-green.biz        2021-08-11   \n",
      "99            783.639.1472          colleen91@faulkner.biz        2020-03-11   \n",
      "\n",
      "                              Website  \n",
      "0          http://www.stephenson.com/  \n",
      "1               http://www.hobbs.com/  \n",
      "2            http://www.lawrence.com/  \n",
      "3          http://www.good-lyons.com/  \n",
      "4         https://goodwin-ingram.com/  \n",
      "..                                ...  \n",
      "95            http://hayes-perez.com/  \n",
      "96         https://novak-allison.com/  \n",
      "97              https://www.ross.com/  \n",
      "98               http://watkins.info/  \n",
      "99  http://www.hatfield-saunders.net/  \n",
      "\n",
      "[100 rows x 12 columns]\n"
     ]
    }
   ],
   "execution_count": 15
  },
  {
   "metadata": {
    "ExecuteTime": {
     "end_time": "2024-09-19T13:18:10.691246Z",
     "start_time": "2024-09-19T13:18:10.682891Z"
    }
   },
   "cell_type": "code",
   "source": [
    "data_ffill = data.ffill()\n",
    "print(\"После заполнения вперед:\\n\", data_ffill)"
   ],
   "id": "55a426e647b49896",
   "outputs": [
    {
     "name": "stdout",
     "output_type": "stream",
     "text": [
      "После заполнения вперед:\n",
      "     Index      Customer Id First Name Last Name  \\\n",
      "0       1  DD37Cf93aecA6Dc     Sheryl    Baxter   \n",
      "1       2  1Ef7b82A4CAAD10    Preston    Lozano   \n",
      "2       3  6F94879bDAfE5a6        Roy     Berry   \n",
      "3       4  5Cef8BFA16c5e3c      Linda     Olsen   \n",
      "4       5  053d585Ab6b3159     Joanna    Bender   \n",
      "..    ...              ...        ...       ...   \n",
      "95     96  cb8E23e48d22Eae       Karl     Greer   \n",
      "96     97  CeD220bdAaCfaDf       Lynn  Atkinson   \n",
      "97     98  28CDbC0dFe4b1Db       Fred    Guerra   \n",
      "98     99  c23d1D9EE8DEB0A     Yvonne    Farmer   \n",
      "99    100  2354a0E336A91A1   Clarence    Haynes   \n",
      "\n",
      "                            Company               City  \\\n",
      "0                   Rasmussen Group       East Leonard   \n",
      "1                       Vega-Gentry  East Jimmychester   \n",
      "2                     Murillo-Perry      Isabelborough   \n",
      "3   Dominguez, Mcmillan and Donovan         Bensonview   \n",
      "4          Martin, Lang and Andrade     West Priscilla   \n",
      "..                              ...                ...   \n",
      "95                        Carey LLC       East Richard   \n",
      "96            Ware, Burns and Oneal       New Bradview   \n",
      "97                    Schmitt-Jones         Ortegaland   \n",
      "98               Fitzgerald-Harrell    Lake Elijahview   \n",
      "99               Le, Nash and Cross          Judymouth   \n",
      "\n",
      "                       Country                 Phone 1  \\\n",
      "0                        Chile            229.077.5154   \n",
      "1                     Djibouti              5153435776   \n",
      "2          Antigua and Barbuda         +1-539-402-0259   \n",
      "3           Dominican Republic  001-808-617-6467x12895   \n",
      "4   Slovakia (Slovak Republic)  001-234-203-0635x76146   \n",
      "..                         ...                     ...   \n",
      "95                      Guyana     (188)169-1674x58692   \n",
      "96                   Sri Lanka         +1-846-706-2218   \n",
      "97             Solomon Islands    +1-753-067-8419x7170   \n",
      "98                       Aruba           (530)311-9786   \n",
      "99                    Honduras           (753)813-6941   \n",
      "\n",
      "                   Phone 2                           Email Subscription Date  \\\n",
      "0         397.884.0519x718        zunigavanessa@smith.info        2020-08-24   \n",
      "1         686-620-1820x944                 vmata@colon.com        2021-04-23   \n",
      "2      (496)978-3969x58947             beckycarr@hogan.com        2020-03-25   \n",
      "3          +1-813-324-8756     stanleyblackwell@benson.org        2020-06-02   \n",
      "4    001-199-446-3860x3486         colinalvarado@miles.net        2021-04-17   \n",
      "..                     ...                             ...               ...   \n",
      "95    001-841-293-3519x614                hhart@jensen.com        2022-01-30   \n",
      "96            605.413.3198               vkemp@ferrell.com        2021-07-10   \n",
      "97   +1-632-666-7507x92121                swagner@kane.org        2021-09-18   \n",
      "98  001-869-452-0943x12424  mccarthystephen@horn-green.biz        2021-08-11   \n",
      "99            783.639.1472          colleen91@faulkner.biz        2020-03-11   \n",
      "\n",
      "                              Website  \n",
      "0          http://www.stephenson.com/  \n",
      "1               http://www.hobbs.com/  \n",
      "2            http://www.lawrence.com/  \n",
      "3          http://www.good-lyons.com/  \n",
      "4         https://goodwin-ingram.com/  \n",
      "..                                ...  \n",
      "95            http://hayes-perez.com/  \n",
      "96         https://novak-allison.com/  \n",
      "97              https://www.ross.com/  \n",
      "98               http://watkins.info/  \n",
      "99  http://www.hatfield-saunders.net/  \n",
      "\n",
      "[100 rows x 12 columns]\n"
     ]
    }
   ],
   "execution_count": 16
  },
  {
   "metadata": {
    "ExecuteTime": {
     "end_time": "2024-09-19T13:18:19.150131Z",
     "start_time": "2024-09-19T13:18:19.142794Z"
    }
   },
   "cell_type": "code",
   "source": [
    "data_bfill = data.bfill()\n",
    "print(\"После заполнения назад:\\n\", data_bfill)"
   ],
   "id": "3f328efe0f431ff0",
   "outputs": [
    {
     "name": "stdout",
     "output_type": "stream",
     "text": [
      "После заполнения назад:\n",
      "     Index      Customer Id First Name Last Name  \\\n",
      "0       1  DD37Cf93aecA6Dc     Sheryl    Baxter   \n",
      "1       2  1Ef7b82A4CAAD10    Preston    Lozano   \n",
      "2       3  6F94879bDAfE5a6        Roy     Berry   \n",
      "3       4  5Cef8BFA16c5e3c      Linda     Olsen   \n",
      "4       5  053d585Ab6b3159     Joanna    Bender   \n",
      "..    ...              ...        ...       ...   \n",
      "95     96  cb8E23e48d22Eae       Karl     Greer   \n",
      "96     97  CeD220bdAaCfaDf       Lynn  Atkinson   \n",
      "97     98  28CDbC0dFe4b1Db       Fred    Guerra   \n",
      "98     99  c23d1D9EE8DEB0A     Yvonne    Farmer   \n",
      "99    100  2354a0E336A91A1   Clarence    Haynes   \n",
      "\n",
      "                            Company               City  \\\n",
      "0                   Rasmussen Group       East Leonard   \n",
      "1                       Vega-Gentry  East Jimmychester   \n",
      "2                     Murillo-Perry      Isabelborough   \n",
      "3   Dominguez, Mcmillan and Donovan         Bensonview   \n",
      "4          Martin, Lang and Andrade     West Priscilla   \n",
      "..                              ...                ...   \n",
      "95                        Carey LLC       East Richard   \n",
      "96            Ware, Burns and Oneal       New Bradview   \n",
      "97                    Schmitt-Jones         Ortegaland   \n",
      "98               Fitzgerald-Harrell    Lake Elijahview   \n",
      "99               Le, Nash and Cross          Judymouth   \n",
      "\n",
      "                       Country                 Phone 1  \\\n",
      "0                        Chile            229.077.5154   \n",
      "1                     Djibouti              5153435776   \n",
      "2          Antigua and Barbuda         +1-539-402-0259   \n",
      "3           Dominican Republic  001-808-617-6467x12895   \n",
      "4   Slovakia (Slovak Republic)  001-234-203-0635x76146   \n",
      "..                         ...                     ...   \n",
      "95                      Guyana     (188)169-1674x58692   \n",
      "96                   Sri Lanka         +1-846-706-2218   \n",
      "97             Solomon Islands    +1-753-067-8419x7170   \n",
      "98                       Aruba           (530)311-9786   \n",
      "99                    Honduras           (753)813-6941   \n",
      "\n",
      "                   Phone 2                           Email Subscription Date  \\\n",
      "0         397.884.0519x718        zunigavanessa@smith.info        2020-08-24   \n",
      "1         686-620-1820x944                 vmata@colon.com        2021-04-23   \n",
      "2      (496)978-3969x58947             beckycarr@hogan.com        2020-03-25   \n",
      "3          +1-813-324-8756     stanleyblackwell@benson.org        2020-06-02   \n",
      "4    001-199-446-3860x3486         colinalvarado@miles.net        2021-04-17   \n",
      "..                     ...                             ...               ...   \n",
      "95    001-841-293-3519x614                hhart@jensen.com        2022-01-30   \n",
      "96            605.413.3198               vkemp@ferrell.com        2021-07-10   \n",
      "97   +1-632-666-7507x92121                swagner@kane.org        2021-09-18   \n",
      "98  001-869-452-0943x12424  mccarthystephen@horn-green.biz        2021-08-11   \n",
      "99            783.639.1472          colleen91@faulkner.biz        2020-03-11   \n",
      "\n",
      "                              Website  \n",
      "0          http://www.stephenson.com/  \n",
      "1               http://www.hobbs.com/  \n",
      "2            http://www.lawrence.com/  \n",
      "3          http://www.good-lyons.com/  \n",
      "4         https://goodwin-ingram.com/  \n",
      "..                                ...  \n",
      "95            http://hayes-perez.com/  \n",
      "96         https://novak-allison.com/  \n",
      "97              https://www.ross.com/  \n",
      "98               http://watkins.info/  \n",
      "99  http://www.hatfield-saunders.net/  \n",
      "\n",
      "[100 rows x 12 columns]\n"
     ]
    }
   ],
   "execution_count": 17
  },
  {
   "metadata": {
    "ExecuteTime": {
     "end_time": "2024-09-19T13:18:25.902115Z",
     "start_time": "2024-09-19T13:18:25.897966Z"
    }
   },
   "cell_type": "code",
   "source": "print(\"Exercise 3:\")",
   "id": "4b84685f077b3882",
   "outputs": [
    {
     "name": "stdout",
     "output_type": "stream",
     "text": [
      "Exercise 3:\n"
     ]
    }
   ],
   "execution_count": 18
  },
  {
   "metadata": {
    "ExecuteTime": {
     "end_time": "2024-09-19T13:18:30.875262Z",
     "start_time": "2024-09-19T13:18:30.862873Z"
    }
   },
   "cell_type": "code",
   "source": [
    "df = pd.DataFrame({\n",
    "    'Place': [1, 2, 3, 4, 5],\n",
    "    'Score': [50, 40, 30, 20, 10]\n",
    "})\n",
    "\n",
    "scaler = MinMaxScaler() #нормализирует данные в диапазоне от 0 до 1\n",
    "\n",
    "df_normalized = pd.DataFrame(scaler.fit_transform(df), columns=df.columns)\n",
    "print(\"Min-Max Scaled Data:\\n\", df_normalized)"
   ],
   "id": "24106260c9a47adc",
   "outputs": [
    {
     "name": "stdout",
     "output_type": "stream",
     "text": [
      "Min-Max Scaled Data:\n",
      "    Place  Score\n",
      "0   0.00   1.00\n",
      "1   0.25   0.75\n",
      "2   0.50   0.50\n",
      "3   0.75   0.25\n",
      "4   1.00   0.00\n"
     ]
    }
   ],
   "execution_count": 19
  },
  {
   "metadata": {
    "ExecuteTime": {
     "end_time": "2024-09-19T13:18:36.486366Z",
     "start_time": "2024-09-19T13:18:36.478777Z"
    }
   },
   "cell_type": "code",
   "source": [
    "df_gender = pd.DataFrame({\n",
    "    'Gender': ['MALE', 'MALE', 'FEMALE', 'MALE', 'FEMALE']\n",
    "})\n",
    "\n",
    "df_encoded = pd.get_dummies(df_gender, columns=['Gender'])\n",
    "print(\"One-hot Encoded Data:\\n\", df_encoded)"
   ],
   "id": "2b3dcfd261c18613",
   "outputs": [
    {
     "name": "stdout",
     "output_type": "stream",
     "text": [
      "One-hot Encoded Data:\n",
      "    Gender_FEMALE  Gender_MALE\n",
      "0          False         True\n",
      "1          False         True\n",
      "2           True        False\n",
      "3          False         True\n",
      "4           True        False\n"
     ]
    }
   ],
   "execution_count": 20
  },
  {
   "metadata": {
    "ExecuteTime": {
     "end_time": "2024-09-19T13:18:42.058961Z",
     "start_time": "2024-09-19T13:18:42.050837Z"
    }
   },
   "cell_type": "code",
   "source": [
    "df_continuous = pd.DataFrame({\n",
    "    'Value': [1, 5, 10, 15, 20]\n",
    "})\n",
    "\n",
    "bins = [0, 5, 10, 15, 20]\n",
    "labels = ['0-5', '5-10', '10-15', '15-20']\n",
    "\n",
    "df_binned = pd.cut(df_continuous['Value'], bins=bins, labels=labels)\n",
    "df_continuous['Binned'] = df_binned\n",
    "print(\"Binned Data:\\n\", df_continuous)"
   ],
   "id": "40d184fccf9fc5bc",
   "outputs": [
    {
     "name": "stdout",
     "output_type": "stream",
     "text": [
      "Binned Data:\n",
      "    Value Binned\n",
      "0      1    0-5\n",
      "1      5    0-5\n",
      "2     10   5-10\n",
      "3     15  10-15\n",
      "4     20  15-20\n"
     ]
    }
   ],
   "execution_count": 21
  },
  {
   "metadata": {
    "ExecuteTime": {
     "end_time": "2024-09-19T13:18:47.261928Z",
     "start_time": "2024-09-19T13:18:47.258023Z"
    }
   },
   "cell_type": "code",
   "source": "print(\"Exercise 4:\")",
   "id": "c4d6d53f195d3b6",
   "outputs": [
    {
     "name": "stdout",
     "output_type": "stream",
     "text": [
      "Exercise 4:\n"
     ]
    }
   ],
   "execution_count": 22
  },
  {
   "metadata": {
    "ExecuteTime": {
     "end_time": "2024-09-19T13:18:51.971767Z",
     "start_time": "2024-09-19T13:18:51.958261Z"
    }
   },
   "cell_type": "code",
   "source": [
    "from sklearn.preprocessing import PolynomialFeatures\n",
    "\n",
    "df = pd.DataFrame({\n",
    "    'Feature1': [1, 2, 3, 4, 5],\n",
    "    'Feature2': [10, 20, 30, 40, 50]\n",
    "})\n",
    "\n",
    "poly = PolynomialFeatures(degree=2, include_bias=False)\n",
    "df_poly = pd.DataFrame(poly.fit_transform(df), columns=['Feature1', 'Feature2', 'Feature1^2', 'Feature1*Feature2', 'Feature2^2'])\n",
    "\n",
    "print(\"Polynomial features:\\n\", df_poly)"
   ],
   "id": "6df1615245d66bbe",
   "outputs": [
    {
     "name": "stdout",
     "output_type": "stream",
     "text": [
      "Polynomial features:\n",
      "    Feature1  Feature2  Feature1^2  Feature1*Feature2  Feature2^2\n",
      "0       1.0      10.0         1.0               10.0       100.0\n",
      "1       2.0      20.0         4.0               40.0       400.0\n",
      "2       3.0      30.0         9.0               90.0       900.0\n",
      "3       4.0      40.0        16.0              160.0      1600.0\n",
      "4       5.0      50.0        25.0              250.0      2500.0\n"
     ]
    }
   ],
   "execution_count": 23
  },
  {
   "metadata": {
    "ExecuteTime": {
     "end_time": "2024-09-19T13:18:57.589333Z",
     "start_time": "2024-09-19T13:18:57.573067Z"
    }
   },
   "cell_type": "code",
   "source": [
    "df_dates = pd.DataFrame({\n",
    "    'Date': ['2024-09-12', '2024-10-01', '2024-12-25', '2025-01-15', '2025-03-20']\n",
    "})\n",
    "\n",
    "df_dates['Date'] = pd.to_datetime(df_dates['Date'])\n",
    "\n",
    "df_dates['Year'] = df_dates['Date'].dt.year\n",
    "df_dates['Month'] = df_dates['Date'].dt.month\n",
    "df_dates['Day'] = df_dates['Date'].dt.day\n",
    "df_dates['DayOfWeek'] = df_dates['Date'].dt.dayofweek\n",
    "df_dates['Quarter'] = df_dates['Date'].dt.quarter\n",
    "\n",
    "print(\"Data and received features:\\n\", df_dates)"
   ],
   "id": "2b9733446372115d",
   "outputs": [
    {
     "name": "stdout",
     "output_type": "stream",
     "text": [
      "Data and received features:\n",
      "         Date  Year  Month  Day  DayOfWeek  Quarter\n",
      "0 2024-09-12  2024      9   12          3        3\n",
      "1 2024-10-01  2024     10    1          1        4\n",
      "2 2024-12-25  2024     12   25          2        4\n",
      "3 2025-01-15  2025      1   15          2        1\n",
      "4 2025-03-20  2025      3   20          3        1\n"
     ]
    }
   ],
   "execution_count": 24
  },
  {
   "metadata": {
    "ExecuteTime": {
     "end_time": "2024-09-19T13:19:04.245530Z",
     "start_time": "2024-09-19T13:19:04.238523Z"
    }
   },
   "cell_type": "code",
   "source": [
    "df_sales = pd.DataFrame({\n",
    "    'SalePrice': [100, 150, 200, 300],\n",
    "    'CostPrice': [70, 100, 150, 250]\n",
    "})\n",
    "\n",
    "df_sales['Profit'] = df_sales['SalePrice'] - df_sales['CostPrice']\n",
    "df_sales['Discount'] = (df_sales['CostPrice'] / df_sales['SalePrice']) * 100\n",
    "\n",
    "print(\"Sales with a new features:\\n\", df_sales)"
   ],
   "id": "170b15e4388f7718",
   "outputs": [
    {
     "name": "stdout",
     "output_type": "stream",
     "text": [
      "Sales with a new features:\n",
      "    SalePrice  CostPrice  Profit   Discount\n",
      "0        100         70      30  70.000000\n",
      "1        150        100      50  66.666667\n",
      "2        200        150      50  75.000000\n",
      "3        300        250      50  83.333333\n"
     ]
    }
   ],
   "execution_count": 25
  },
  {
   "metadata": {
    "ExecuteTime": {
     "end_time": "2024-09-19T13:19:09.937725Z",
     "start_time": "2024-09-19T13:19:09.931243Z"
    }
   },
   "cell_type": "code",
   "source": "print(\"exercise 5:\")",
   "id": "113349450238f167",
   "outputs": [
    {
     "name": "stdout",
     "output_type": "stream",
     "text": [
      "exercise 5:\n"
     ]
    }
   ],
   "execution_count": 26
  },
  {
   "metadata": {
    "ExecuteTime": {
     "end_time": "2024-09-19T13:19:15.552105Z",
     "start_time": "2024-09-19T13:19:15.542212Z"
    }
   },
   "cell_type": "code",
   "source": [
    "import pandas as pd\n",
    "\n",
    "df = pd.DataFrame({\n",
    "    'ID': [1, 2, 2, 4],\n",
    "    'Name': ['Alice', 'Bob', 'Bob', 'David'],\n",
    "    'Value': [10, 20, 20, 40]\n",
    "})\n",
    "\n",
    "print(\"Existing data frame:\\n\", df)\n",
    "\n",
    "df_cleaned = df.drop_duplicates()\n",
    "print(\"\\ndata frame after deleting duplicates :\\n\", df_cleaned)"
   ],
   "id": "6e34229b0d23ce5a",
   "outputs": [
    {
     "name": "stdout",
     "output_type": "stream",
     "text": [
      "Existing data frame:\n",
      "    ID   Name  Value\n",
      "0   1  Alice     10\n",
      "1   2    Bob     20\n",
      "2   2    Bob     20\n",
      "3   4  David     40\n",
      "\n",
      "data frame after deleting duplicates :\n",
      "    ID   Name  Value\n",
      "0   1  Alice     10\n",
      "1   2    Bob     20\n",
      "3   4  David     40\n"
     ]
    }
   ],
   "execution_count": 27
  },
  {
   "metadata": {
    "ExecuteTime": {
     "end_time": "2024-09-19T13:19:20.895496Z",
     "start_time": "2024-09-19T13:19:20.886392Z"
    }
   },
   "cell_type": "code",
   "source": [
    "import pandas as pd\n",
    "\n",
    "df = pd.DataFrame({\n",
    "    'ID': [1, 2, 2, 4],\n",
    "    'Name': ['Alice', 'Bob', 'Bob', 'David'],\n",
    "    'Value': [10, 20, 20, 40]\n",
    "})\n",
    "\n",
    "print(\"Existing data frame:\\n\", df)\n",
    "\n",
    "df_cleaned = df.drop_duplicates()\n",
    "print(\"\\ndata frame after deleting duplicates :\\n\", df_cleaned)"
   ],
   "id": "c458264779179fc7",
   "outputs": [
    {
     "name": "stdout",
     "output_type": "stream",
     "text": [
      "Existing data frame:\n",
      "    ID   Name  Value\n",
      "0   1  Alice     10\n",
      "1   2    Bob     20\n",
      "2   2    Bob     20\n",
      "3   4  David     40\n",
      "\n",
      "data frame after deleting duplicates :\n",
      "    ID   Name  Value\n",
      "0   1  Alice     10\n",
      "1   2    Bob     20\n",
      "3   4  David     40\n"
     ]
    }
   ],
   "execution_count": 28
  },
  {
   "metadata": {
    "ExecuteTime": {
     "end_time": "2024-09-19T13:19:26.661581Z",
     "start_time": "2024-09-19T13:19:26.650615Z"
    }
   },
   "cell_type": "code",
   "source": [
    "#  IQR\n",
    "Q1 = df['Value'].quantile(0.25)\n",
    "Q3 = df['Value'].quantile(0.75)\n",
    "IQR = Q3 - Q1\n",
    "\n",
    "lower_bound = Q1 - 1.5 * IQR\n",
    "upper_bound = Q3 + 1.5 * IQR\n",
    "\n",
    "df_no_outliers_iqr = df[(df['Value'] >= lower_bound) & (df['Value'] <= upper_bound)]\n",
    "print(\"\\ndf after deleting outliers (метод IQR):\\n\", df_no_outliers_iqr)"
   ],
   "id": "785d45f4c02d4b7",
   "outputs": [
    {
     "name": "stdout",
     "output_type": "stream",
     "text": [
      "\n",
      "df after deleting outliers (метод IQR):\n",
      "    ID   Name  Value\n",
      "0   1  Alice     10\n",
      "1   2    Bob     20\n",
      "2   2    Bob     20\n"
     ]
    }
   ],
   "execution_count": 29
  },
  {
   "metadata": {
    "ExecuteTime": {
     "end_time": "2024-09-19T13:19:32.239718Z",
     "start_time": "2024-09-19T13:19:32.234100Z"
    }
   },
   "cell_type": "code",
   "source": [
    "df = pd.DataFrame({\n",
    "    'Category': ['A', 'b', 'B ', 'a', ' C']\n",
    "})\n",
    "\n",
    "df['Category'] = df['Category'].str.strip().str.lower()\n",
    "\n",
    "df['Category'] = df['Category'].replace({'a': 'A', 'b': 'B', 'c': 'C'})\n",
    "\n",
    "print(\"df after correcting inconsistencies:\\n\", df)"
   ],
   "id": "c29f13c1aacbbec3",
   "outputs": [
    {
     "name": "stdout",
     "output_type": "stream",
     "text": [
      "df after correcting inconsistencies:\n",
      "   Category\n",
      "0        A\n",
      "1        B\n",
      "2        B\n",
      "3        A\n",
      "4        C\n"
     ]
    }
   ],
   "execution_count": 30
  },
  {
   "metadata": {
    "ExecuteTime": {
     "end_time": "2024-09-19T13:19:37.144327Z",
     "start_time": "2024-09-19T13:19:37.138113Z"
    }
   },
   "cell_type": "code",
   "source": "print(\"Exercise 6:\")",
   "id": "af3bf0285fa7303e",
   "outputs": [
    {
     "name": "stdout",
     "output_type": "stream",
     "text": [
      "Exercise 6:\n"
     ]
    }
   ],
   "execution_count": 31
  },
  {
   "metadata": {
    "ExecuteTime": {
     "end_time": "2024-09-19T13:19:42.225617Z",
     "start_time": "2024-09-19T13:19:42.213158Z"
    }
   },
   "cell_type": "code",
   "source": [
    "import pandas as pd\n",
    "from sklearn.model_selection import train_test_split\n",
    "\n",
    "data = {\n",
    "    'Feature1': [1, 2, 3, 4, 5, 6],\n",
    "    'Feature2': [10, 20, 30, 40, 50, 60],\n",
    "    'Target': [0, 1, 0, 1, 0, 1]\n",
    "}\n",
    "df = pd.DataFrame(data)\n",
    "\n",
    "# Отделение признаков и целевой переменной\n",
    "X = df[['Feature1', 'Feature2']]\n",
    "y = df['Target']\n",
    "\n",
    "# Разделение на обучающие и тестовые наборы (70% - 30%)\n",
    "X_train, X_test, y_train, y_test = train_test_split(X, y, test_size=0.3, random_state=42)\n",
    "\n",
    "print(\"model training:\\n\", X_train, y_train)\n",
    "print(\"\\ntesting sets:\\n\", X_test, y_test)"
   ],
   "id": "27be3eb6fc464667",
   "outputs": [
    {
     "name": "stdout",
     "output_type": "stream",
     "text": [
      "model training:\n",
      "    Feature1  Feature2\n",
      "5         6        60\n",
      "2         3        30\n",
      "4         5        50\n",
      "3         4        40 5    1\n",
      "2    0\n",
      "4    0\n",
      "3    1\n",
      "Name: Target, dtype: int64\n",
      "\n",
      "testing sets:\n",
      "    Feature1  Feature2\n",
      "0         1        10\n",
      "1         2        20 0    0\n",
      "1    1\n",
      "Name: Target, dtype: int64\n"
     ]
    }
   ],
   "execution_count": 32
  },
  {
   "metadata": {
    "ExecuteTime": {
     "end_time": "2024-09-19T13:19:48.549932Z",
     "start_time": "2024-09-19T13:19:48.530019Z"
    }
   },
   "cell_type": "code",
   "source": [
    "X_train_80, X_test_20, y_train_80, y_test_20 = train_test_split(X, y, test_size=0.2, random_state=42)\n",
    "\n",
    "print(\"model training (80-20):\\n\", X_train_80, y_train_80)\n",
    "print(\"\\nTesting case (80-20):\\n\", X_test_20, y_test_20)"
   ],
   "id": "e2bb1f42c2ce4b05",
   "outputs": [
    {
     "name": "stdout",
     "output_type": "stream",
     "text": [
      "model training (80-20):\n",
      "    Feature1  Feature2\n",
      "5         6        60\n",
      "2         3        30\n",
      "4         5        50\n",
      "3         4        40 5    1\n",
      "2    0\n",
      "4    0\n",
      "3    1\n",
      "Name: Target, dtype: int64\n",
      "\n",
      "Testing case (80-20):\n",
      "    Feature1  Feature2\n",
      "0         1        10\n",
      "1         2        20 0    0\n",
      "1    1\n",
      "Name: Target, dtype: int64\n"
     ]
    }
   ],
   "execution_count": 33
  },
  {
   "metadata": {
    "ExecuteTime": {
     "end_time": "2024-09-19T13:19:53.644483Z",
     "start_time": "2024-09-19T13:19:53.641320Z"
    }
   },
   "cell_type": "code",
   "source": "print(\"Exercise 7:\")",
   "id": "9628c93e44ff6717",
   "outputs": [
    {
     "name": "stdout",
     "output_type": "stream",
     "text": [
      "Exercise 7:\n"
     ]
    }
   ],
   "execution_count": 34
  },
  {
   "metadata": {
    "ExecuteTime": {
     "end_time": "2024-09-19T13:20:27.163712Z",
     "start_time": "2024-09-19T13:20:27.121552Z"
    }
   },
   "cell_type": "code",
   "source": [
    "data = {\n",
    "    'age': [25, 30, None, 35, 40],\n",
    "    'city': ['New York', 'Los Angeles', 'New York', None, 'Chicago'],\n",
    "    'income': [50000, 60000, None, 80000, 70000],\n",
    "    'purchased': [1, 0, 1, 0, 1]  # Целевая переменная\n",
    "}\n",
    "\n",
    "df = pd.DataFrame(data)\n",
    "\n",
    "X = df.drop('purchased', axis=1)\n",
    "y = df['purchased']\n",
    "\n",
    "numeric_features = ['age', 'income']\n",
    "categorical_features = ['city']\n",
    "\n",
    "numeric_transformer = Pipeline(steps=[\n",
    "    ('imputer', SimpleImputer(strategy='mean')),\n",
    "    ('scaler', StandardScaler())  \n",
    "])\n",
    "\n",
    "categorical_transformer = Pipeline(steps=[\n",
    "    ('imputer', SimpleImputer(strategy='most_frequent')),\n",
    "    ('onehot', OneHotEncoder(handle_unknown='ignore')) \n",
    "])\n",
    "\n",
    "preprocessor = ColumnTransformer(\n",
    "    transformers=[\n",
    "        ('num', numeric_transformer, numeric_features),\n",
    "        ('cat', categorical_transformer, categorical_features)\n",
    "    ])\n",
    "\n",
    "model = Pipeline(steps=[\n",
    "    ('preprocessor', preprocessor),\n",
    "    ('classifier', LogisticRegression())\n",
    "])\n",
    "\n",
    "X_train, X_test, y_train, y_test = train_test_split(X, y, test_size=0.2, random_state=42)\n",
    "\n",
    "model.fit(X_train, y_train)\n",
    "\n",
    "\n",
    "score = model.score(X_test, y_test)\n",
    "print(f'Accuracy: {score:.2f}')"
   ],
   "id": "31041cee3aa45028",
   "outputs": [
    {
     "name": "stdout",
     "output_type": "stream",
     "text": [
      "Accuracy: 0.00\n"
     ]
    }
   ],
   "execution_count": 36
  },
  {
   "metadata": {},
   "cell_type": "code",
   "outputs": [],
   "execution_count": null,
   "source": "",
   "id": "75f5e309a04a56d4"
  }
 ],
 "metadata": {
  "kernelspec": {
   "display_name": "Python 3",
   "language": "python",
   "name": "python3"
  },
  "language_info": {
   "codemirror_mode": {
    "name": "ipython",
    "version": 2
   },
   "file_extension": ".py",
   "mimetype": "text/x-python",
   "name": "python",
   "nbconvert_exporter": "python",
   "pygments_lexer": "ipython2",
   "version": "2.7.6"
  }
 },
 "nbformat": 4,
 "nbformat_minor": 5
}
